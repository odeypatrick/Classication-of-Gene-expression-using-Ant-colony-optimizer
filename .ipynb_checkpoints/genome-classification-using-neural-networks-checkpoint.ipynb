{
 "cells": [
  {
   "cell_type": "markdown",
   "metadata": {},
   "source": [
    "# Importing the Modules"
   ]
  },
  {
   "cell_type": "markdown",
   "metadata": {},
   "source": [
    "The first 4 lines will make your code reproducible."
   ]
  },
  {
   "cell_type": "code",
   "execution_count": 1,
   "metadata": {
    "_cell_guid": "b1076dfc-b9ad-4769-8c92-a6c4dae69d19",
    "_uuid": "8f2839f25d086af736a60e9eeb907d3b93b6e0e5",
    "execution": {
     "iopub.execute_input": "2022-06-09T09:20:07.513189Z",
     "iopub.status.busy": "2022-06-09T09:20:07.512619Z",
     "iopub.status.idle": "2022-06-09T09:20:07.525511Z",
     "shell.execute_reply": "2022-06-09T09:20:07.524622Z",
     "shell.execute_reply.started": "2022-06-09T09:20:07.513141Z"
    }
   },
   "outputs": [
    {
     "ename": "ModuleNotFoundError",
     "evalue": "No module named 'tensorflow'",
     "output_type": "error",
     "traceback": [
      "\u001b[1;31m---------------------------------------------------------------------------\u001b[0m",
      "\u001b[1;31mModuleNotFoundError\u001b[0m                       Traceback (most recent call last)",
      "\u001b[1;32mC:\\Users\\GRACEO~1\\AppData\\Local\\Temp/ipykernel_4752/1459029375.py\u001b[0m in \u001b[0;36m<module>\u001b[1;34m\u001b[0m\n\u001b[0;32m      2\u001b[0m \u001b[1;32mimport\u001b[0m \u001b[0mnumpy\u001b[0m \u001b[1;32mas\u001b[0m \u001b[0mnp\u001b[0m\u001b[1;33m\u001b[0m\u001b[1;33m\u001b[0m\u001b[0m\n\u001b[0;32m      3\u001b[0m \u001b[0mnp\u001b[0m\u001b[1;33m.\u001b[0m\u001b[0mrandom\u001b[0m\u001b[1;33m.\u001b[0m\u001b[0mseed\u001b[0m\u001b[1;33m(\u001b[0m\u001b[1;36m0\u001b[0m\u001b[1;33m)\u001b[0m\u001b[1;33m\u001b[0m\u001b[1;33m\u001b[0m\u001b[0m\n\u001b[1;32m----> 4\u001b[1;33m \u001b[1;32mfrom\u001b[0m \u001b[0mtensorflow\u001b[0m\u001b[1;33m.\u001b[0m\u001b[0mrandom\u001b[0m \u001b[1;32mimport\u001b[0m \u001b[0mset_seed\u001b[0m\u001b[1;33m\u001b[0m\u001b[1;33m\u001b[0m\u001b[0m\n\u001b[0m\u001b[0;32m      5\u001b[0m \u001b[0mset_seed\u001b[0m\u001b[1;33m(\u001b[0m\u001b[1;36m0\u001b[0m\u001b[1;33m)\u001b[0m\u001b[1;33m\u001b[0m\u001b[1;33m\u001b[0m\u001b[0m\n\u001b[0;32m      6\u001b[0m \u001b[1;33m\u001b[0m\u001b[0m\n",
      "\u001b[1;31mModuleNotFoundError\u001b[0m: No module named 'tensorflow'"
     ]
    }
   ],
   "source": [
    "#To make the code reproducible\n",
    "import numpy as np\n",
    "np.random.seed(0)\n",
    "from tensorflow.random import set_seed\n",
    "set_seed(0)\n",
    "\n",
    "import pandas as pd\n",
    "from tensorflow import keras\n",
    "from sklearn.preprocessing import StandardScaler\n",
    "from sklearn.decomposition import PCA\n",
    "from tensorflow.keras import layers\n",
    "from sklearn.metrics import accuracy_score, confusion_matrix\n",
    "import matplotlib.pyplot as plt\n",
    "import seaborn as sns\n",
    "import networkx as nx\n",
    "%matplotlib inline\n",
    "print('NetworkX version: {}'.format(nx.__version__))\n"
   ]
  },
  {
   "cell_type": "markdown",
   "metadata": {},
   "source": [
    "# Loading Data"
   ]
  },
  {
   "cell_type": "markdown",
   "metadata": {},
   "source": [
    "The \"actual\" file contains all 72 patients in the study and the labels."
   ]
  },
  {
   "cell_type": "code",
   "execution_count": null,
   "metadata": {
    "execution": {
     "iopub.execute_input": "2022-06-09T09:21:37.792367Z",
     "iopub.status.busy": "2022-06-09T09:21:37.791997Z",
     "iopub.status.idle": "2022-06-09T09:21:38.088998Z",
     "shell.execute_reply": "2022-06-09T09:21:38.088000Z",
     "shell.execute_reply.started": "2022-06-09T09:21:37.792335Z"
    }
   },
   "outputs": [],
   "source": [
    "train_df = pd.read_csv('../input/gene-expression/data_set_ALL_AML_train.csv')\n",
    "test_df = pd.read_csv('../input/gene-expression/data_set_ALL_AML_independent.csv')\n",
    "train_df.head()"
   ]
  },
  {
   "cell_type": "code",
   "execution_count": null,
   "metadata": {
    "execution": {
     "iopub.execute_input": "2022-06-09T09:21:38.970800Z",
     "iopub.status.busy": "2022-06-09T09:21:38.970221Z",
     "iopub.status.idle": "2022-06-09T09:21:39.001542Z",
     "shell.execute_reply": "2022-06-09T09:21:39.000498Z",
     "shell.execute_reply.started": "2022-06-09T09:21:38.970748Z"
    }
   },
   "outputs": [],
   "source": [
    "test_df.head()"
   ]
  },
  {
   "cell_type": "code",
   "execution_count": null,
   "metadata": {
    "execution": {
     "iopub.execute_input": "2022-06-09T09:21:39.905447Z",
     "iopub.status.busy": "2022-06-09T09:21:39.903773Z",
     "iopub.status.idle": "2022-06-09T09:21:39.922719Z",
     "shell.execute_reply": "2022-06-09T09:21:39.921699Z",
     "shell.execute_reply.started": "2022-06-09T09:21:39.905397Z"
    }
   },
   "outputs": [],
   "source": [
    "actual_df = pd.read_csv('../input/gene-expression/actual.csv')\n",
    "actual_df.head()"
   ]
  },
  {
   "cell_type": "code",
   "execution_count": null,
   "metadata": {
    "execution": {
     "iopub.execute_input": "2022-06-09T09:21:40.862336Z",
     "iopub.status.busy": "2022-06-09T09:21:40.861973Z",
     "iopub.status.idle": "2022-06-09T09:21:40.871399Z",
     "shell.execute_reply": "2022-06-09T09:21:40.870456Z",
     "shell.execute_reply.started": "2022-06-09T09:21:40.862307Z"
    }
   },
   "outputs": [],
   "source": [
    "print(f\"Number of value counts \\n{actual_df['cancer'].value_counts()}\")\n",
    "print(f\"The shape of the actual {actual_df.shape}\")"
   ]
  },
  {
   "cell_type": "markdown",
   "metadata": {},
   "source": [
    "Recode label to numeric."
   ]
  },
  {
   "cell_type": "code",
   "execution_count": null,
   "metadata": {
    "execution": {
     "iopub.execute_input": "2022-06-09T09:21:43.017529Z",
     "iopub.status.busy": "2022-06-09T09:21:43.016854Z",
     "iopub.status.idle": "2022-06-09T09:21:43.027352Z",
     "shell.execute_reply": "2022-06-09T09:21:43.026497Z",
     "shell.execute_reply.started": "2022-06-09T09:21:43.017474Z"
    }
   },
   "outputs": [],
   "source": [
    "y = actual_df.replace({'ALL':0, 'AML':1})\n",
    "y = y.set_index('patient')\n",
    "labels = ['ALL', 'AML']"
   ]
  },
  {
   "cell_type": "markdown",
   "metadata": {},
   "source": [
    "Loading training and testing datasets."
   ]
  },
  {
   "cell_type": "code",
   "execution_count": null,
   "metadata": {
    "execution": {
     "iopub.execute_input": "2022-06-09T09:21:44.357514Z",
     "iopub.status.busy": "2022-06-09T09:21:44.356866Z",
     "iopub.status.idle": "2022-06-09T09:21:44.535841Z",
     "shell.execute_reply": "2022-06-09T09:21:44.534978Z",
     "shell.execute_reply.started": "2022-06-09T09:21:44.357461Z"
    }
   },
   "outputs": [],
   "source": [
    "y[\"cancer\"].value_counts().plot(kind='bar', )"
   ]
  },
  {
   "cell_type": "markdown",
   "metadata": {},
   "source": [
    "##Feature Engineering"
   ]
  },
  {
   "cell_type": "code",
   "execution_count": null,
   "metadata": {
    "execution": {
     "iopub.execute_input": "2022-06-09T09:20:17.960797Z",
     "iopub.status.busy": "2022-06-09T09:20:17.960210Z",
     "iopub.status.idle": "2022-06-09T09:20:17.986139Z",
     "shell.execute_reply": "2022-06-09T09:20:17.985334Z",
     "shell.execute_reply.started": "2022-06-09T09:20:17.960760Z"
    }
   },
   "outputs": [],
   "source": [
    "#using ACO\n",
    "class ant:\n",
    "    def __init__(self, G, start = 'S', end = 'T', alpha = 1, beta = 1):\n",
    "        self.G = G\n",
    "        self.current_city, self.target_city = start, end\n",
    "        self.alpha, self.beta = alpha, beta\n",
    "        self.route = {self.current_city : 0}\n",
    "        self.L = 0\n",
    "        \n",
    "        \n",
    "        def move(self):\n",
    "            if self.current_city == self.target_city: return\n",
    "            #Dont visit an already followed path\n",
    "            possible_edges = [e for e in G.edges([self.current_city]) if e[1] not in self.route]\n",
    "            possible_cities = [e[1] for e in possible_edges]\n",
    "            \n",
    "            distances = np.array([G.edges[e]['weight'] for e in possible_edges])\n",
    "            pheromons = np.array([G.edges[e]['pheromone'] for e in possible_edges])\n",
    "            \n",
    "            preferences = pheromons**self.alpha/distance**self.beta\n",
    "            probabilities = preferences/preferences.sum()\n",
    "            \n",
    "            new_city = np.random.choice(a = possible_cities, size=1,\n",
    "                                       p =probabilities)[0]\n",
    "            self.L += self.G.edges[(self.current_city, new_city)]['weight']\n",
    "            self.current_city = new_city\n",
    "            self.route[self.current_city] = len(self.route)\n",
    "            \n",
    "        def go():\n",
    "            for i in range(self.G.number_of_nodes()):\n",
    "                self.move()\n",
    "        def get_path(self):\n",
    "            inv_route = {v:k for k, v in self.route.items()}\n",
    "            return [inv_route[i] for i in range(len(inv_route))]\n",
    "class antcolony(ant):\n",
    "    def __init__(self, G, start = 'S', end = 'T', alpha = 1, beta = 1):\n",
    "        self.G, eps = G, 0.0001\n",
    "        nx.set_edge_attributes(self.G, eps, 'pheromone')\n",
    "        self.start, self.end = start, end\n",
    "        self.alpha, self.beta = alpha, beta\n",
    "        \n",
    "    def evaporation(self, decay = 0.05):\n",
    "        #Evaporation of pheromon\n",
    "        phe = nx.get_edge_attribute(G, 'pheromone')\n",
    "        new_phe = {k:v * (1 - decay) for k,v in phe.items()}\n",
    "        nx.set_edge_attributes(self.G, new_phe, 'pheromone')\n",
    "         \n",
    "    def deposit(self, route, L, delta =1):\n",
    "        for i,j in zip(route[:-1], route[1:]):\n",
    "            self.G.edges[(i, j)]['pheromone'] += delta/L\n",
    "            \n",
    "    def run(self, number_of_ants =10, time=20):\n",
    "        #in each time step\n",
    "        for t in range(time):\n",
    "            #K ants exist in the colony\n",
    "            self.colony = [ant(self.G, self.start, self.end, self.alpha, self.beta)\n",
    "                          for k in range(number_of_ants)]\n",
    "            for k in range(number_of_ants): self.colony[k].go()\n",
    "            for k in range(number_of_ants):\n",
    "                self.deposit(route=self.colony[k].get_path(),\n",
    "                            L = self.colony[k].L)\n",
    "            self.evaporation()"
   ]
  },
  {
   "cell_type": "markdown",
   "metadata": {},
   "source": []
  },
  {
   "cell_type": "markdown",
   "metadata": {},
   "source": [
    "From the above chart the target variable is inmbalaced needs to balance either using SMOTE, oversampling  or undersampling.\n"
   ]
  },
  {
   "cell_type": "code",
   "execution_count": null,
   "metadata": {
    "execution": {
     "iopub.execute_input": "2022-06-09T09:21:53.071266Z",
     "iopub.status.busy": "2022-06-09T09:21:53.070882Z",
     "iopub.status.idle": "2022-06-09T09:21:53.076573Z",
     "shell.execute_reply": "2022-06-09T09:21:53.075820Z",
     "shell.execute_reply.started": "2022-06-09T09:21:53.071230Z"
    }
   },
   "outputs": [],
   "source": [
    "print(\"Shape of Training Data: \", train_df.shape)\n",
    "print(\"Shape of Testing Data: \", test_df.shape)"
   ]
  },
  {
   "cell_type": "code",
   "execution_count": null,
   "metadata": {
    "execution": {
     "iopub.execute_input": "2022-06-09T09:21:53.550624Z",
     "iopub.status.busy": "2022-06-09T09:21:53.549958Z",
     "iopub.status.idle": "2022-06-09T09:21:53.560509Z",
     "shell.execute_reply": "2022-06-09T09:21:53.559502Z",
     "shell.execute_reply.started": "2022-06-09T09:21:53.550579Z"
    }
   },
   "outputs": [],
   "source": [
    "train_df['call'].value_counts()"
   ]
  },
  {
   "cell_type": "code",
   "execution_count": null,
   "metadata": {
    "execution": {
     "iopub.execute_input": "2022-06-09T09:21:53.942336Z",
     "iopub.status.busy": "2022-06-09T09:21:53.941985Z",
     "iopub.status.idle": "2022-06-09T09:21:53.954340Z",
     "shell.execute_reply": "2022-06-09T09:21:53.953210Z",
     "shell.execute_reply.started": "2022-06-09T09:21:53.942298Z"
    }
   },
   "outputs": [],
   "source": [
    "#The call column has no information apart from A so it wiil look into\n",
    "train_to_keep=[col for col in train_df.columns if \"call\" not in col]\n",
    "test_to_keep=[col for col in test_df.columns if \"call\" not in col]\n",
    "\n",
    "X_train = train_df[train_to_keep]\n",
    "X_test = test_df[test_to_keep]"
   ]
  },
  {
   "cell_type": "markdown",
   "metadata": {},
   "source": [
    "Now we can simply transpose both training and testing dataframes so that genes become columns(features) and patients become rows."
   ]
  },
  {
   "cell_type": "code",
   "execution_count": null,
   "metadata": {
    "execution": {
     "iopub.execute_input": "2022-06-09T09:21:54.831181Z",
     "iopub.status.busy": "2022-06-09T09:21:54.830527Z",
     "iopub.status.idle": "2022-06-09T09:21:55.736581Z",
     "shell.execute_reply": "2022-06-09T09:21:55.735838Z",
     "shell.execute_reply.started": "2022-06-09T09:21:54.831123Z"
    }
   },
   "outputs": [],
   "source": [
    "X_train = X_train.T\n",
    "X_test = X_test.T"
   ]
  },
  {
   "cell_type": "code",
   "execution_count": null,
   "metadata": {
    "execution": {
     "iopub.execute_input": "2022-06-09T09:21:55.738305Z",
     "iopub.status.busy": "2022-06-09T09:21:55.737919Z",
     "iopub.status.idle": "2022-06-09T09:21:55.741806Z",
     "shell.execute_reply": "2022-06-09T09:21:55.741163Z",
     "shell.execute_reply.started": "2022-06-09T09:21:55.738276Z"
    }
   },
   "outputs": [],
   "source": [
    "ant_xtrain = X_train.values\n",
    "ant_xtest = X_test.values"
   ]
  },
  {
   "cell_type": "markdown",
   "metadata": {},
   "source": [
    "The first 2 rows are duplicated so we can remove 'Gene Description' and set 'Gene Accession Number' as the column headers."
   ]
  },
  {
   "cell_type": "code",
   "execution_count": null,
   "metadata": {
    "execution": {
     "iopub.execute_input": "2022-06-09T09:21:55.743142Z",
     "iopub.status.busy": "2022-06-09T09:21:55.742728Z",
     "iopub.status.idle": "2022-06-09T09:21:55.780252Z",
     "shell.execute_reply": "2022-06-09T09:21:55.779322Z",
     "shell.execute_reply.started": "2022-06-09T09:21:55.743107Z"
    }
   },
   "outputs": [],
   "source": [
    "X_train.head()"
   ]
  },
  {
   "cell_type": "code",
   "execution_count": null,
   "metadata": {
    "execution": {
     "iopub.execute_input": "2022-06-09T09:21:55.950408Z",
     "iopub.status.busy": "2022-06-09T09:21:55.950059Z",
     "iopub.status.idle": "2022-06-09T09:21:55.966224Z",
     "shell.execute_reply": "2022-06-09T09:21:55.965200Z",
     "shell.execute_reply.started": "2022-06-09T09:21:55.950377Z"
    }
   },
   "outputs": [],
   "source": [
    "#X_train.columns = X_train.iloc[1]\n",
    "#X_test.columns = X_test.iloc[1]\n",
    "\n",
    "X_train = X_train.drop(['Gene Description', 'Gene Accession Number'])\n",
    "X_test = X_test.drop(['Gene Description', 'Gene Accession Number'])"
   ]
  },
  {
   "cell_type": "markdown",
   "metadata": {},
   "source": [
    "Neither the training and testing row indexes are not in numeric order, so it's important that we reorder these, so that the labels will line up with the corresponding data."
   ]
  },
  {
   "cell_type": "code",
   "execution_count": null,
   "metadata": {
    "execution": {
     "iopub.execute_input": "2022-06-09T09:21:56.408068Z",
     "iopub.status.busy": "2022-06-09T09:21:56.407510Z",
     "iopub.status.idle": "2022-06-09T09:21:56.434436Z",
     "shell.execute_reply": "2022-06-09T09:21:56.433625Z",
     "shell.execute_reply.started": "2022-06-09T09:21:56.408032Z"
    }
   },
   "outputs": [],
   "source": [
    "X_train.head()"
   ]
  },
  {
   "cell_type": "code",
   "execution_count": null,
   "metadata": {
    "execution": {
     "iopub.execute_input": "2022-06-09T09:21:56.638256Z",
     "iopub.status.busy": "2022-06-09T09:21:56.637881Z",
     "iopub.status.idle": "2022-06-09T09:21:56.658645Z",
     "shell.execute_reply": "2022-06-09T09:21:56.657928Z",
     "shell.execute_reply.started": "2022-06-09T09:21:56.638220Z"
    }
   },
   "outputs": [],
   "source": [
    "#Sorting The index of the Transpose dataset\n",
    "X_train.index = X_train.index.astype(int)\n",
    "X_train.sort_index(inplace=True)\n",
    "\n",
    "X_test.index = X_test.index.astype(int)\n",
    "X_test.sort_index(inplace=True)"
   ]
  },
  {
   "cell_type": "code",
   "execution_count": null,
   "metadata": {
    "execution": {
     "iopub.execute_input": "2022-06-09T09:21:56.906513Z",
     "iopub.status.busy": "2022-06-09T09:21:56.905971Z",
     "iopub.status.idle": "2022-06-09T09:21:56.911515Z",
     "shell.execute_reply": "2022-06-09T09:21:56.910890Z",
     "shell.execute_reply.started": "2022-06-09T09:21:56.906460Z"
    }
   },
   "outputs": [],
   "source": [
    "print(\"Shape of Training data:\\t\", X_train.shape)\n",
    "print(\"Shape of Testing Data:\\t\", X_test.shape)"
   ]
  },
  {
   "cell_type": "code",
   "execution_count": null,
   "metadata": {
    "execution": {
     "iopub.execute_input": "2022-06-09T09:21:57.105565Z",
     "iopub.status.busy": "2022-06-09T09:21:57.105038Z",
     "iopub.status.idle": "2022-06-09T09:21:57.131565Z",
     "shell.execute_reply": "2022-06-09T09:21:57.130792Z",
     "shell.execute_reply.started": "2022-06-09T09:21:57.105516Z"
    }
   },
   "outputs": [],
   "source": [
    "X_train.head()"
   ]
  },
  {
   "cell_type": "markdown",
   "metadata": {},
   "source": [
    "Now let's split the target labels into training and testing targets."
   ]
  },
  {
   "cell_type": "code",
   "execution_count": null,
   "metadata": {
    "execution": {
     "iopub.execute_input": "2022-06-09T09:21:57.544280Z",
     "iopub.status.busy": "2022-06-09T09:21:57.543933Z",
     "iopub.status.idle": "2022-06-09T09:21:57.548959Z",
     "shell.execute_reply": "2022-06-09T09:21:57.547966Z",
     "shell.execute_reply.started": "2022-06-09T09:21:57.544243Z"
    }
   },
   "outputs": [],
   "source": [
    "#we define the label also taking 38 rows to follow suit our number of columns\n",
    "y_train = y['cancer'][:38]\n",
    "y_test = y['cancer'][38:]"
   ]
  },
  {
   "cell_type": "markdown",
   "metadata": {},
   "source": [
    "## Scaling Feautures "
   ]
  },
  {
   "cell_type": "markdown",
   "metadata": {},
   "source": [
    "Note that the test set must use identical scaling to the training set."
   ]
  },
  {
   "cell_type": "code",
   "execution_count": null,
   "metadata": {
    "execution": {
     "iopub.execute_input": "2022-06-09T09:21:58.119071Z",
     "iopub.status.busy": "2022-06-09T09:21:58.118523Z",
     "iopub.status.idle": "2022-06-09T09:22:10.608740Z",
     "shell.execute_reply": "2022-06-09T09:22:10.607334Z",
     "shell.execute_reply.started": "2022-06-09T09:21:58.119021Z"
    }
   },
   "outputs": [],
   "source": [
    "X_train.describe()"
   ]
  },
  {
   "cell_type": "code",
   "execution_count": null,
   "metadata": {
    "execution": {
     "iopub.execute_input": "2022-06-09T09:22:10.611663Z",
     "iopub.status.busy": "2022-06-09T09:22:10.611241Z",
     "iopub.status.idle": "2022-06-09T09:22:10.830621Z",
     "shell.execute_reply": "2022-06-09T09:22:10.829678Z",
     "shell.execute_reply.started": "2022-06-09T09:22:10.611619Z"
    }
   },
   "outputs": [],
   "source": [
    "scaler = StandardScaler()\n",
    "X_train_scaled = scaler.fit_transform(X_train)\n",
    "X_test_scaled = scaler.transform(X_test)"
   ]
  },
  {
   "cell_type": "code",
   "execution_count": null,
   "metadata": {
    "execution": {
     "iopub.execute_input": "2022-06-09T09:22:10.832318Z",
     "iopub.status.busy": "2022-06-09T09:22:10.832025Z",
     "iopub.status.idle": "2022-06-09T09:22:11.555306Z",
     "shell.execute_reply": "2022-06-09T09:22:11.554441Z",
     "shell.execute_reply.started": "2022-06-09T09:22:10.832290Z"
    }
   },
   "outputs": [],
   "source": [
    "#lets do a distplot to check for skewness \n",
    "fig, ax = plt.subplots(ncols=2, figsize=(15,5))\n",
    "sns.distplot(np.concatenate(X_train.values), ax=ax[0]).set_title('Original Data')\n",
    "sns.distplot(np.concatenate(X_train_scaled), ax=ax[1]).set_title('Scaled Data')\n",
    "plt.tight_layout\n",
    "plt.show()"
   ]
  },
  {
   "cell_type": "code",
   "execution_count": null,
   "metadata": {
    "execution": {
     "iopub.execute_input": "2022-06-09T09:22:11.556917Z",
     "iopub.status.busy": "2022-06-09T09:22:11.556595Z",
     "iopub.status.idle": "2022-06-09T09:22:11.560719Z",
     "shell.execute_reply": "2022-06-09T09:22:11.559986Z",
     "shell.execute_reply.started": "2022-06-09T09:22:11.556867Z"
    }
   },
   "outputs": [],
   "source": [
    "#SEE the data set is balance after scaling using the standardScaler which center and unskew the data"
   ]
  },
  {
   "cell_type": "code",
   "execution_count": null,
   "metadata": {
    "execution": {
     "iopub.execute_input": "2022-06-09T09:22:11.564464Z",
     "iopub.status.busy": "2022-06-09T09:22:11.564075Z",
     "iopub.status.idle": "2022-06-09T09:22:11.570738Z",
     "shell.execute_reply": "2022-06-09T09:22:11.569962Z",
     "shell.execute_reply.started": "2022-06-09T09:22:11.564426Z"
    }
   },
   "outputs": [],
   "source": [
    "#sns.pairplot(X_train)"
   ]
  },
  {
   "cell_type": "markdown",
   "metadata": {},
   "source": [
    "## Dimentionality reduction(PCA)"
   ]
  },
  {
   "cell_type": "markdown",
   "metadata": {},
   "source": [
    "You need to apply the same PCA on training and testing sets."
   ]
  },
  {
   "cell_type": "code",
   "execution_count": null,
   "metadata": {
    "execution": {
     "iopub.execute_input": "2022-06-09T09:22:11.572828Z",
     "iopub.status.busy": "2022-06-09T09:22:11.572223Z",
     "iopub.status.idle": "2022-06-09T09:22:11.659006Z",
     "shell.execute_reply": "2022-06-09T09:22:11.657951Z",
     "shell.execute_reply.started": "2022-06-09T09:22:11.572781Z"
    }
   },
   "outputs": [],
   "source": [
    "pca = PCA(n_components = 0.95)\n",
    "X_train_pca = pca.fit_transform(X_train_scaled)\n",
    "X_test_pca = pca.transform(X_test_scaled)\n",
    "print(X_train_pca.shape)\n",
    "print(X_test_pca.shape)"
   ]
  },
  {
   "cell_type": "code",
   "execution_count": null,
   "metadata": {
    "execution": {
     "iopub.execute_input": "2022-06-09T09:22:11.661277Z",
     "iopub.status.busy": "2022-06-09T09:22:11.660588Z",
     "iopub.status.idle": "2022-06-09T09:22:11.813755Z",
     "shell.execute_reply": "2022-06-09T09:22:11.812700Z",
     "shell.execute_reply.started": "2022-06-09T09:22:11.661231Z"
    }
   },
   "outputs": [],
   "source": [
    "var = pca.explained_variance_ratio_\n",
    "plt.plot(var)\n",
    "plt.xlabel('Principal component index')\n",
    "plt.ylabel('Explained variance ratio')\n",
    "plt.show()"
   ]
  },
  {
   "cell_type": "code",
   "execution_count": null,
   "metadata": {
    "execution": {
     "iopub.execute_input": "2022-06-09T09:22:11.816081Z",
     "iopub.status.busy": "2022-06-09T09:22:11.815423Z",
     "iopub.status.idle": "2022-06-09T09:22:11.822909Z",
     "shell.execute_reply": "2022-06-09T09:22:11.821968Z",
     "shell.execute_reply.started": "2022-06-09T09:22:11.816035Z"
    }
   },
   "outputs": [],
   "source": [
    "# print(len(pca.components_))\n",
    "pca.explained_variance_ratio_.sum()"
   ]
  },
  {
   "cell_type": "markdown",
   "metadata": {},
   "source": [
    "95% of variance is explained by 32 principal components. We can't plot something in 32 dimensions, so let's just see what the PCA looks like when we just pick the top three compoments."
   ]
  },
  {
   "cell_type": "code",
   "execution_count": null,
   "metadata": {
    "execution": {
     "iopub.execute_input": "2022-06-09T09:22:11.825249Z",
     "iopub.status.busy": "2022-06-09T09:22:11.824585Z",
     "iopub.status.idle": "2022-06-09T09:22:12.068676Z",
     "shell.execute_reply": "2022-06-09T09:22:12.067982Z",
     "shell.execute_reply.started": "2022-06-09T09:22:11.825210Z"
    }
   },
   "outputs": [],
   "source": [
    "pca3 = PCA(n_components = 3).fit_transform(X_train_scaled)\n",
    "colors = np.where(y_train==0, 'red', 'blue')\n",
    "plt.clf()\n",
    "fig = plt.figure(1, figsize=(10,6 ))\n",
    "#ax = Axes3D(fig, elev=-150, azim=110,)\n",
    "sns.scatterplot(pca3[:, 0], pca3[:, 1], pca3[:, 2])\n",
    "plt.show()"
   ]
  },
  {
   "cell_type": "markdown",
   "metadata": {},
   "source": [
    "# Neural Network"
   ]
  },
  {
   "cell_type": "code",
   "execution_count": null,
   "metadata": {
    "execution": {
     "iopub.execute_input": "2022-06-09T09:22:12.070184Z",
     "iopub.status.busy": "2022-06-09T09:22:12.069865Z",
     "iopub.status.idle": "2022-06-09T09:22:12.182987Z",
     "shell.execute_reply": "2022-06-09T09:22:12.182161Z",
     "shell.execute_reply.started": "2022-06-09T09:22:12.070152Z"
    }
   },
   "outputs": [],
   "source": [
    "NN_model = keras.Sequential([\n",
    "    layers.Dense(32, activation='relu', input_shape=X_train_pca[1].shape),\n",
    "    layers.Dense(16, activation='relu'),\n",
    "    layers.Dense(1, activation='sigmoid')\n",
    "])"
   ]
  },
  {
   "cell_type": "code",
   "execution_count": null,
   "metadata": {
    "execution": {
     "iopub.execute_input": "2022-06-09T09:22:12.184696Z",
     "iopub.status.busy": "2022-06-09T09:22:12.184224Z",
     "iopub.status.idle": "2022-06-09T09:22:12.199951Z",
     "shell.execute_reply": "2022-06-09T09:22:12.198970Z",
     "shell.execute_reply.started": "2022-06-09T09:22:12.184662Z"
    }
   },
   "outputs": [],
   "source": [
    "NN_model.compile(\n",
    "    loss='binary_crossentropy',\n",
    "    optimizer='adam',\n",
    "    metrics=['binary_accuracy']\n",
    ")"
   ]
  },
  {
   "cell_type": "code",
   "execution_count": null,
   "metadata": {
    "execution": {
     "iopub.execute_input": "2022-06-09T09:22:12.202121Z",
     "iopub.status.busy": "2022-06-09T09:22:12.201340Z",
     "iopub.status.idle": "2022-06-09T09:22:12.206167Z",
     "shell.execute_reply": "2022-06-09T09:22:12.205449Z",
     "shell.execute_reply.started": "2022-06-09T09:22:12.202085Z"
    }
   },
   "outputs": [],
   "source": [
    "early_stopping = keras.callbacks.EarlyStopping(\n",
    "    patience=5,\n",
    "    min_delta=0.005,\n",
    "    restore_best_weights=True,\n",
    ")"
   ]
  },
  {
   "cell_type": "code",
   "execution_count": null,
   "metadata": {
    "execution": {
     "iopub.execute_input": "2022-06-09T09:22:12.208070Z",
     "iopub.status.busy": "2022-06-09T09:22:12.207502Z",
     "iopub.status.idle": "2022-06-09T09:22:13.516544Z",
     "shell.execute_reply": "2022-06-09T09:22:13.515690Z",
     "shell.execute_reply.started": "2022-06-09T09:22:12.208038Z"
    }
   },
   "outputs": [],
   "source": [
    "train_history = NN_model.fit(\n",
    "    X_train_pca, y_train,\n",
    "    validation_data=(X_test_pca, y_test),\n",
    "    batch_size = 8,\n",
    "    epochs = 200,\n",
    "    callbacks=[early_stopping]\n",
    ")"
   ]
  },
  {
   "cell_type": "code",
   "execution_count": null,
   "metadata": {
    "execution": {
     "iopub.execute_input": "2022-06-09T09:22:13.520109Z",
     "iopub.status.busy": "2022-06-09T09:22:13.519772Z",
     "iopub.status.idle": "2022-06-09T09:22:13.637615Z",
     "shell.execute_reply": "2022-06-09T09:22:13.636609Z",
     "shell.execute_reply.started": "2022-06-09T09:22:13.520077Z"
    }
   },
   "outputs": [],
   "source": [
    "pred = NN_model.predict_classes(X_test_pca)\n",
    "print('Neural Network accuracy: ', round(accuracy_score(y_test, pred), 3))"
   ]
  },
  {
   "cell_type": "code",
   "execution_count": null,
   "metadata": {
    "execution": {
     "iopub.execute_input": "2022-06-09T09:22:13.639293Z",
     "iopub.status.busy": "2022-06-09T09:22:13.638993Z",
     "iopub.status.idle": "2022-06-09T09:22:14.014658Z",
     "shell.execute_reply": "2022-06-09T09:22:14.013611Z",
     "shell.execute_reply.started": "2022-06-09T09:22:13.639262Z"
    }
   },
   "outputs": [],
   "source": [
    "cm_nn = confusion_matrix(y_test, pred)\n",
    "\n",
    "ax = plt.subplot()\n",
    "sns.heatmap(cm_nn, annot=True, ax = ax, fmt='g', cmap='Greens') \n",
    "\n",
    "# Labels, title and ticks\n",
    "ax.set_xlabel('Predicted labels')\n",
    "ax.set_ylabel('True labels') \n",
    "ax.set_title('Neural Network Confusion Matrix') \n",
    "ax.xaxis.set_ticklabels(labels) \n",
    "ax.yaxis.set_ticklabels(labels, rotation=360);"
   ]
  },
  {
   "cell_type": "code",
   "execution_count": null,
   "metadata": {
    "execution": {
     "iopub.execute_input": "2022-06-09T09:24:36.700156Z",
     "iopub.status.busy": "2022-06-09T09:24:36.699727Z",
     "iopub.status.idle": "2022-06-09T09:24:36.712981Z",
     "shell.execute_reply": "2022-06-09T09:24:36.712108Z",
     "shell.execute_reply.started": "2022-06-09T09:24:36.700117Z"
    }
   },
   "outputs": [],
   "source": [
    "ant_train = train_df.copy() \n",
    "ant_test = train_df.copy()"
   ]
  },
  {
   "cell_type": "markdown",
   "metadata": {},
   "source": [
    "tryin to optimize the dataset using antcolony optimaization"
   ]
  },
  {
   "cell_type": "code",
   "execution_count": null,
   "metadata": {
    "execution": {
     "iopub.execute_input": "2022-06-09T09:31:14.444279Z",
     "iopub.status.busy": "2022-06-09T09:31:14.443942Z",
     "iopub.status.idle": "2022-06-09T09:31:14.470917Z",
     "shell.execute_reply": "2022-06-09T09:31:14.469965Z",
     "shell.execute_reply.started": "2022-06-09T09:31:14.444251Z"
    }
   },
   "outputs": [],
   "source": [
    "#using ACO\n",
    "class ant():\n",
    "    def __init__(self, G, start = 'S', end = 'T', alpha = 1, beta = 1):\n",
    "        self.G = G\n",
    "        self.current_city, self.target_city = start, end\n",
    "        self.alpha, self.beta = alpha, beta\n",
    "        self.route = {self.current_city : 0}\n",
    "        self.L = 0\n",
    "        \n",
    "        \n",
    "        def move(self):\n",
    "            if self.current_city == self.target_city: return\n",
    "            #Dont visit an already followed path\n",
    "            possible_edges = [e for e in G.edges([self.current_city]) if e[1] not in self.route]\n",
    "            possible_cities = [e[1] for e in possible_edges]\n",
    "            \n",
    "            distances = np.array([G.edges[e]['weight'] for e in possible_edges])\n",
    "            pheromons = np.array([G.edges[e]['pheromone'] for e in possible_edges])\n",
    "            \n",
    "            preferences = pheromons**self.alpha/distance**self.beta\n",
    "            probabilities = preferences/preferences.sum()\n",
    "            \n",
    "            new_city = np.random.choice(a = possible_cities, size=1,\n",
    "                                       p =probabilities)[0]\n",
    "            self.L += self.G.edges[(self.current_city, new_city)]['weight']\n",
    "            self.current_city = new_city\n",
    "            self.route[self.current_city] = len(self.route)\n",
    "            \n",
    "        def go():\n",
    "            for i in range(self.G.number_of_nodes()):\n",
    "                self.move()\n",
    "        def get_path(self):\n",
    "            inv_route = {v:k for k, v in self.route.items()}\n",
    "            return [inv_route[i] for i in range(len(inv_route))]\n",
    "class antcolony():\n",
    "    def __init__(self, G, start = 'S', end = 'T', alpha = 1, beta = 1):\n",
    "        self.G, eps = G, 0.0001\n",
    "        nx.set_edge_attributes(self.G, eps, 'pheromone')\n",
    "        self.start, self.end = start, end\n",
    "        self.alpha, self.beta = alpha, beta\n",
    "        \n",
    "    def evaporation(self, decay = 0.05):\n",
    "        #Evaporation of pheromon\n",
    "        phe = nx.get_edge_attribute(G, 'pheromone')\n",
    "        new_phe = {k:v * (1 - decay) for k,v in phe.items()}\n",
    "        nx.set_edge_attributes(self.G, new_phe, 'pheromone')\n",
    "         \n",
    "    def deposit(self, route, L, delta =1):\n",
    "        for i,j in zip(route[:-1], route[1:]):\n",
    "            self.G.edges[(i, j)]['pheromone'] += delta/L\n",
    "            \n",
    "    def run(self, number_of_ants =10, time=20):\n",
    "        #in each time step\n",
    "        for t in range(time):\n",
    "            #K ants exist in the colony\n",
    "            self.colony = [ant(self.G, self.start, self.end, self.alpha, self.beta)\n",
    "                          for k in range(number_of_ants)]\n",
    "            #for k in range(number_of_ants): self.colony[k].go()\n",
    "            #for k in range(number_of_ants):\n",
    "                #self.deposit(route=self.colony[k].get_path(),\n",
    "                            #L = self.colony[k].L)\n",
    "            self.evaporation()"
   ]
  },
  {
   "cell_type": "code",
   "execution_count": null,
   "metadata": {
    "execution": {
     "iopub.execute_input": "2022-06-09T09:31:15.273131Z",
     "iopub.status.busy": "2022-06-09T09:31:15.272744Z",
     "iopub.status.idle": "2022-06-09T09:31:15.343207Z",
     "shell.execute_reply": "2022-06-09T09:31:15.341307Z",
     "shell.execute_reply.started": "2022-06-09T09:31:15.273098Z"
    }
   },
   "outputs": [],
   "source": [
    "edge_list = [('S', 'A', 1), ('A', 'T', 1), ('S', 'B', 10), ('B', 'T', 10)]\n",
    "G = nx.Graph()\n",
    "G.add_weighted_edges_from(edge_list)\n",
    "\n",
    "swarm = antcolony(G, start='S', end='T', alpha=1, beta = 1)\n",
    "swarm.run(number_of_ants = 10, time = 2)"
   ]
  },
  {
   "cell_type": "code",
   "execution_count": null,
   "metadata": {},
   "outputs": [],
   "source": []
  }
 ],
 "metadata": {
  "kernelspec": {
   "display_name": "Python 3 (ipykernel)",
   "language": "python",
   "name": "python3"
  },
  "language_info": {
   "codemirror_mode": {
    "name": "ipython",
    "version": 3
   },
   "file_extension": ".py",
   "mimetype": "text/x-python",
   "name": "python",
   "nbconvert_exporter": "python",
   "pygments_lexer": "ipython3",
   "version": "3.9.7"
  }
 },
 "nbformat": 4,
 "nbformat_minor": 4
}
